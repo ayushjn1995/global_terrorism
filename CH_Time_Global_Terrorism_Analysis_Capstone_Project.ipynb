{
  "nbformat": 4,
  "nbformat_minor": 0,
  "metadata": {
    "kernelspec": {
      "display_name": "Python 3",
      "language": "python",
      "name": "python3"
    },
    "language_info": {
      "codemirror_mode": {
        "name": "ipython",
        "version": 3
      },
      "file_extension": ".py",
      "mimetype": "text/x-python",
      "name": "python",
      "nbconvert_exporter": "python",
      "pygments_lexer": "ipython3",
      "version": "3.6.6"
    },
    "colab": {
      "name": "CH - Time - Global Terrorism Analysis - Capstone Project.ipynb",
      "provenance": [],
      "include_colab_link": true
    }
  },
  "cells": [
    {
      "cell_type": "markdown",
      "metadata": {
        "id": "view-in-github",
        "colab_type": "text"
      },
      "source": [
        "<a href=\"https://colab.research.google.com/github/ayushjn1995/global_terrorism/blob/main/CH_Time_Global_Terrorism_Analysis_Capstone_Project.ipynb\" target=\"_parent\"><img src=\"https://colab.research.google.com/assets/colab-badge.svg\" alt=\"Open In Colab\"/></a>"
      ]
    },
    {
      "cell_type": "markdown",
      "metadata": {
        "id": "Y06xIdG26kRF"
      },
      "source": [
        "## <b> The Global Terrorism Database (GTD) is an open-source database including information on terrorist attacks around the world from 1970 through 2017. The GTD includes systematic data on domestic as well as international terrorist incidents that have occurred during this time period and now includes more than 180,000 attacks. The database is maintained by researchers at the National Consortium for the Study of Terrorism and Responses to Terrorism (START), headquartered at the University of Maryland.</b>\n",
        "\n",
        "# <b> Explore and analyze the data to discover key findings pertaining to terrorist activities. </b>"
      ]
    },
    {
      "cell_type": "markdown",
      "metadata": {
        "id": "McX_Z2O_BrvN"
      },
      "source": [
        "Query Done \n",
        "1. Yearwise attack count (Bar Line Graph) - Harshal \n",
        "2. How many attacks done in whhich country (World Map) - (Harshal)\n",
        "3. How many attacks done in the regions (World Map) - (Harshal)\n",
        "4. How much attack done on which target type  (2 way plot) - (Ayush)\n",
        "5. count of the total attack vs attack type (pie chart) - (Ayush)\n",
        "6. Attack type vs damage (In Ayush Collab) (pie chart) (Ayush)\n",
        "7. Top terrorist group and the most preffered country to attack by them (World Map) - have to done the changes in that (Prabhat)\n",
        "8. No. of attack happened in each year in India (bar line chart) (Prabhat)\n",
        "9. No. of citizens killed vs the year in which thta happened in India (Bar chart) (Prabhat)\n",
        "10. Statewise terrorist group (change to Line graph) (Sarvesh)\n",
        "11. Most affected city by the terrorism in India (shapefile map, polium (Sarvesh)\n",
        "12. Damage done by the attacks type in India (bar Chart)  or (Pie chart) (Sarvesh)\n",
        "\n",
        "\n",
        "*****Not Done *****\n",
        "13. Attacks done in each year in each country with the counts of attack using line chart (line chart ) \n",
        "14. Terrorist group active in which in the whole decade  \n"
      ]
    },
    {
      "cell_type": "code",
      "metadata": {
        "id": "dByMsuzT8Tnw",
        "colab": {
          "base_uri": "https://localhost:8080/"
        },
        "outputId": "9993e204-c523-4d55-8d60-2a1735945cf7"
      },
      "source": [
        "import pandas as pd\n",
        "import matplotlib.pyplot as plt\n",
        "import seaborn as sns\n",
        "import numpy as np\n",
        "import time\n",
        "from IPython.display import clear_output\n",
        "%matplotlib inline\n",
        "pd.set_option(\"display.max_colwidth\", -1)\n"
      ],
      "execution_count": 1,
      "outputs": [
        {
          "output_type": "stream",
          "text": [
            "/usr/local/lib/python3.7/dist-packages/ipykernel_launcher.py:8: FutureWarning: Passing a negative integer is deprecated in version 1.0 and will not be supported in future version. Instead, use None to not limit the column width.\n",
            "  \n"
          ],
          "name": "stderr"
        }
      ]
    },
    {
      "cell_type": "code",
      "metadata": {
        "colab": {
          "base_uri": "https://localhost:8080/"
        },
        "id": "9UIRXCZpHAQZ",
        "outputId": "49b47ad8-8475-4376-ac7d-3996a1748071"
      },
      "source": [
        "from google.colab import drive\n",
        "drive.mount('/content/drive', force_remount=True)"
      ],
      "execution_count": 2,
      "outputs": [
        {
          "output_type": "stream",
          "text": [
            "Mounted at /content/drive\n"
          ],
          "name": "stdout"
        }
      ]
    },
    {
      "cell_type": "code",
      "metadata": {
        "colab": {
          "base_uri": "https://localhost:8080/"
        },
        "id": "HBLEY3k7HJf4",
        "outputId": "524b4fb6-0af8-434f-b608-72079c85f887"
      },
      "source": [
        "working_directory = '/content/drive/My Drive/Almabetter/'\n",
        "df = pd.read_csv(working_directory + 'Global_Terrorism_Data.csv',encoding=\"ISO-8859-1\")"
      ],
      "execution_count": 3,
      "outputs": [
        {
          "output_type": "stream",
          "text": [
            "/usr/local/lib/python3.7/dist-packages/IPython/core/interactiveshell.py:2718: DtypeWarning: Columns (4,6,31,33,61,62,63,76,79,90,92,94,96,114,115,121) have mixed types.Specify dtype option on import or set low_memory=False.\n",
            "  interactivity=interactivity, compiler=compiler, result=result)\n"
          ],
          "name": "stderr"
        }
      ]
    },
    {
      "cell_type": "code",
      "metadata": {
        "colab": {
          "base_uri": "https://localhost:8080/",
          "height": 305
        },
        "id": "Ijm_Gu8WPr04",
        "outputId": "4455665b-f7d6-4184-8f97-2192e1c23b60"
      },
      "source": [
        "sub_df = df[['eventid','iyear','country_txt','region_txt','provstate','city','attacktype1_txt','targtype1_txt','nkill','weapdetail','nwound','gname']]\n",
        "sub_df.rename(columns = {'eventid':'id','iyear':'year','country_txt':'country','provstate':'state','region_txt':'region','attacktype1_txt':'attack_type','targtype1_txt':'target_type','nkill':'total_kills','nwound':'total_wounds','gname':'terrorist_group'},inplace=True)\n",
        "sub_df.head(2)"
      ],
      "execution_count": 9,
      "outputs": [
        {
          "output_type": "stream",
          "text": [
            "/usr/local/lib/python3.7/dist-packages/pandas/core/frame.py:4308: SettingWithCopyWarning: \n",
            "A value is trying to be set on a copy of a slice from a DataFrame\n",
            "\n",
            "See the caveats in the documentation: https://pandas.pydata.org/pandas-docs/stable/user_guide/indexing.html#returning-a-view-versus-a-copy\n",
            "  errors=errors,\n"
          ],
          "name": "stderr"
        },
        {
          "output_type": "execute_result",
          "data": {
            "text/html": [
              "<div>\n",
              "<style scoped>\n",
              "    .dataframe tbody tr th:only-of-type {\n",
              "        vertical-align: middle;\n",
              "    }\n",
              "\n",
              "    .dataframe tbody tr th {\n",
              "        vertical-align: top;\n",
              "    }\n",
              "\n",
              "    .dataframe thead th {\n",
              "        text-align: right;\n",
              "    }\n",
              "</style>\n",
              "<table border=\"1\" class=\"dataframe\">\n",
              "  <thead>\n",
              "    <tr style=\"text-align: right;\">\n",
              "      <th></th>\n",
              "      <th>id</th>\n",
              "      <th>year</th>\n",
              "      <th>country</th>\n",
              "      <th>region</th>\n",
              "      <th>state</th>\n",
              "      <th>city</th>\n",
              "      <th>attack_type</th>\n",
              "      <th>target_type</th>\n",
              "      <th>total_kills</th>\n",
              "      <th>weapdetail</th>\n",
              "      <th>total_wounds</th>\n",
              "      <th>terrorist_group</th>\n",
              "    </tr>\n",
              "  </thead>\n",
              "  <tbody>\n",
              "    <tr>\n",
              "      <th>0</th>\n",
              "      <td>197000000001</td>\n",
              "      <td>1970</td>\n",
              "      <td>Dominican Republic</td>\n",
              "      <td>Central America &amp; Caribbean</td>\n",
              "      <td>NaN</td>\n",
              "      <td>Santo Domingo</td>\n",
              "      <td>Assassination</td>\n",
              "      <td>Private Citizens &amp; Property</td>\n",
              "      <td>1.0</td>\n",
              "      <td>NaN</td>\n",
              "      <td>0.0</td>\n",
              "      <td>MANO-D</td>\n",
              "    </tr>\n",
              "    <tr>\n",
              "      <th>1</th>\n",
              "      <td>197000000002</td>\n",
              "      <td>1970</td>\n",
              "      <td>Mexico</td>\n",
              "      <td>North America</td>\n",
              "      <td>Federal</td>\n",
              "      <td>Mexico city</td>\n",
              "      <td>Hostage Taking (Kidnapping)</td>\n",
              "      <td>Government (Diplomatic)</td>\n",
              "      <td>0.0</td>\n",
              "      <td>NaN</td>\n",
              "      <td>0.0</td>\n",
              "      <td>23rd of September Communist League</td>\n",
              "    </tr>\n",
              "  </tbody>\n",
              "</table>\n",
              "</div>"
            ],
            "text/plain": [
              "             id  year  ... total_wounds                     terrorist_group\n",
              "0  197000000001  1970  ...  0.0          MANO-D                            \n",
              "1  197000000002  1970  ...  0.0          23rd of September Communist League\n",
              "\n",
              "[2 rows x 12 columns]"
            ]
          },
          "metadata": {
            "tags": []
          },
          "execution_count": 9
        }
      ]
    },
    {
      "cell_type": "code",
      "metadata": {
        "colab": {
          "base_uri": "https://localhost:8080/",
          "height": 310
        },
        "id": "kGJ9rVtJFTEx",
        "outputId": "49961330-ed4c-4f84-e088-f8f15e42a66c"
      },
      "source": [
        "sub_df[\"attack_type\"] =sub_df['attack_type'].apply(lambda x: x if x in ['Assassination', 'Hostage Taking (Kidnapping)','Bombing/Explosion', 'Facility/Infrastructure Attack', 'Armed Assault', 'Hijacking','Unarmed Assault', 'Hostage Taking (Barricade Incident)'] else 'Others')\n",
        "g = sub_df.groupby(\"attack_type\").size().reset_index(name=\"count\")\n",
        "hostage_count = g.loc[5,\"count\"] + g.loc[6,\"count\"]\n",
        "\n",
        "# g = g.append(k, ignore_index = True)\n",
        "\n",
        "g.loc[7,\"count\"] = g.loc[7,\"count\"] + g.loc[4,\"count\"] + g.loc[8,\"count\"]\n",
        "g = g.drop([4,5,6,8])\n",
        "g.reset_index(inplace = True)\n",
        "g\n"
      ],
      "execution_count": 11,
      "outputs": [
        {
          "output_type": "stream",
          "text": [
            "/usr/local/lib/python3.7/dist-packages/ipykernel_launcher.py:1: SettingWithCopyWarning: \n",
            "A value is trying to be set on a copy of a slice from a DataFrame.\n",
            "Try using .loc[row_indexer,col_indexer] = value instead\n",
            "\n",
            "See the caveats in the documentation: https://pandas.pydata.org/pandas-docs/stable/user_guide/indexing.html#returning-a-view-versus-a-copy\n",
            "  \"\"\"Entry point for launching an IPython kernel.\n"
          ],
          "name": "stderr"
        },
        {
          "output_type": "execute_result",
          "data": {
            "text/html": [
              "<div>\n",
              "<style scoped>\n",
              "    .dataframe tbody tr th:only-of-type {\n",
              "        vertical-align: middle;\n",
              "    }\n",
              "\n",
              "    .dataframe tbody tr th {\n",
              "        vertical-align: top;\n",
              "    }\n",
              "\n",
              "    .dataframe thead th {\n",
              "        text-align: right;\n",
              "    }\n",
              "</style>\n",
              "<table border=\"1\" class=\"dataframe\">\n",
              "  <thead>\n",
              "    <tr style=\"text-align: right;\">\n",
              "      <th></th>\n",
              "      <th>index</th>\n",
              "      <th>attack_type</th>\n",
              "      <th>count</th>\n",
              "    </tr>\n",
              "  </thead>\n",
              "  <tbody>\n",
              "    <tr>\n",
              "      <th>0</th>\n",
              "      <td>0</td>\n",
              "      <td>Armed Assault</td>\n",
              "      <td>42669</td>\n",
              "    </tr>\n",
              "    <tr>\n",
              "      <th>1</th>\n",
              "      <td>1</td>\n",
              "      <td>Assassination</td>\n",
              "      <td>19312</td>\n",
              "    </tr>\n",
              "    <tr>\n",
              "      <th>2</th>\n",
              "      <td>2</td>\n",
              "      <td>Bombing/Explosion</td>\n",
              "      <td>88255</td>\n",
              "    </tr>\n",
              "    <tr>\n",
              "      <th>3</th>\n",
              "      <td>3</td>\n",
              "      <td>Facility/Infrastructure Attack</td>\n",
              "      <td>10356</td>\n",
              "    </tr>\n",
              "    <tr>\n",
              "      <th>4</th>\n",
              "      <td>7</td>\n",
              "      <td>Others</td>\n",
              "      <td>8950</td>\n",
              "    </tr>\n",
              "  </tbody>\n",
              "</table>\n",
              "</div>"
            ],
            "text/plain": [
              "   index                     attack_type  count\n",
              "0  0      Armed Assault                   42669\n",
              "1  1      Assassination                   19312\n",
              "2  2      Bombing/Explosion               88255\n",
              "3  3      Facility/Infrastructure Attack  10356\n",
              "4  7      Others                          8950 "
            ]
          },
          "metadata": {
            "tags": []
          },
          "execution_count": 11
        }
      ]
    },
    {
      "cell_type": "code",
      "metadata": {
        "colab": {
          "base_uri": "https://localhost:8080/",
          "height": 264
        },
        "id": "Q11KLgkbZjWG",
        "outputId": "f97e30fb-ce2d-4e47-d5f6-9b5c8820a300"
      },
      "source": [
        "\n",
        "my_labels = [\"Armed Assault\",\t\"Assassination\",\t\"Bombing/Explosion\",\t\"Facility/Infrastructure Attack\",\"Others\"]\n",
        "plt.pie(g[\"count\"],labels=my_labels,autopct='%1.1f%%')\n",
        "plt.title('Type of Attacks in World')\n",
        "plt.axis('equal')\n",
        "plt.show()\n"
      ],
      "execution_count": 15,
      "outputs": [
        {
          "output_type": "display_data",
          "data": {
            "image/png": "[encoded data removed]",
            "text/plain": [
              "<Figure size 432x288 with 1 Axes>"
            ]
          },
          "metadata": {
            "tags": []
          }
        }
      ]
    },
    {
      "cell_type": "code",
      "metadata": {
        "colab": {
          "base_uri": "https://localhost:8080/",
          "height": 363
        },
        "id": "nyRZ-_p2QZg9",
        "outputId": "f89a5a28-0af3-43da-e6a2-5b7c2916f1fd"
      },
      "source": [
        "attack_df=sub_df[['attack_type','total_kills','total_wounds']]\n",
        "attack_df.groupby('attack_type').agg({'attack_type':'count','total_kills':'sum','total_wounds':'sum'}).rename(columns={'attack_type':'total_attacks'}).sort_values('total_attacks',ascending=False)\n"
      ],
      "execution_count": 20,
      "outputs": [
        {
          "output_type": "execute_result",
          "data": {
            "text/html": [
              "<div>\n",
              "<style scoped>\n",
              "    .dataframe tbody tr th:only-of-type {\n",
              "        vertical-align: middle;\n",
              "    }\n",
              "\n",
              "    .dataframe tbody tr th {\n",
              "        vertical-align: top;\n",
              "    }\n",
              "\n",
              "    .dataframe thead th {\n",
              "        text-align: right;\n",
              "    }\n",
              "</style>\n",
              "<table border=\"1\" class=\"dataframe\">\n",
              "  <thead>\n",
              "    <tr style=\"text-align: right;\">\n",
              "      <th></th>\n",
              "      <th>total_attacks</th>\n",
              "      <th>total_kills</th>\n",
              "      <th>total_wounds</th>\n",
              "    </tr>\n",
              "    <tr>\n",
              "      <th>attack_type</th>\n",
              "      <th></th>\n",
              "      <th></th>\n",
              "      <th></th>\n",
              "    </tr>\n",
              "  </thead>\n",
              "  <tbody>\n",
              "    <tr>\n",
              "      <th>Bombing/Explosion</th>\n",
              "      <td>88255</td>\n",
              "      <td>157321.0</td>\n",
              "      <td>372686.0</td>\n",
              "    </tr>\n",
              "    <tr>\n",
              "      <th>Armed Assault</th>\n",
              "      <td>42669</td>\n",
              "      <td>160297.0</td>\n",
              "      <td>77366.0</td>\n",
              "    </tr>\n",
              "    <tr>\n",
              "      <th>Assassination</th>\n",
              "      <td>19312</td>\n",
              "      <td>24920.0</td>\n",
              "      <td>13887.0</td>\n",
              "    </tr>\n",
              "    <tr>\n",
              "      <th>Hostage Taking (Kidnapping)</th>\n",
              "      <td>11158</td>\n",
              "      <td>24231.0</td>\n",
              "      <td>6446.0</td>\n",
              "    </tr>\n",
              "    <tr>\n",
              "      <th>Facility/Infrastructure Attack</th>\n",
              "      <td>10356</td>\n",
              "      <td>3642.0</td>\n",
              "      <td>3765.0</td>\n",
              "    </tr>\n",
              "    <tr>\n",
              "      <th>Others</th>\n",
              "      <td>7276</td>\n",
              "      <td>32381.0</td>\n",
              "      <td>14725.0</td>\n",
              "    </tr>\n",
              "    <tr>\n",
              "      <th>Unarmed Assault</th>\n",
              "      <td>1015</td>\n",
              "      <td>880.0</td>\n",
              "      <td>14027.0</td>\n",
              "    </tr>\n",
              "    <tr>\n",
              "      <th>Hostage Taking (Barricade Incident)</th>\n",
              "      <td>991</td>\n",
              "      <td>4478.0</td>\n",
              "      <td>3966.0</td>\n",
              "    </tr>\n",
              "    <tr>\n",
              "      <th>Hijacking</th>\n",
              "      <td>659</td>\n",
              "      <td>3718.0</td>\n",
              "      <td>17001.0</td>\n",
              "    </tr>\n",
              "  </tbody>\n",
              "</table>\n",
              "</div>"
            ],
            "text/plain": [
              "                                     total_attacks  total_kills  total_wounds\n",
              "attack_type                                                                  \n",
              "Bombing/Explosion                    88255          157321.0     372686.0    \n",
              "Armed Assault                        42669          160297.0     77366.0     \n",
              "Assassination                        19312          24920.0      13887.0     \n",
              "Hostage Taking (Kidnapping)          11158          24231.0      6446.0      \n",
              "Facility/Infrastructure Attack       10356          3642.0       3765.0      \n",
              "Others                               7276           32381.0      14725.0     \n",
              "Unarmed Assault                      1015           880.0        14027.0     \n",
              "Hostage Taking (Barricade Incident)  991            4478.0       3966.0      \n",
              "Hijacking                            659            3718.0       17001.0     "
            ]
          },
          "metadata": {
            "tags": []
          },
          "execution_count": 20
        }
      ]
    },
    {
      "cell_type": "code",
      "metadata": {
        "colab": {
          "base_uri": "https://localhost:8080/",
          "height": 739
        },
        "id": "5AzHItgKRily",
        "outputId": "bcea8eb5-9c3d-46a1-e886-476faccb559c"
      },
      "source": [
        "target_df=sub_df[['target_type','total_kills']].copy()\n",
        "target_wise=target_df.groupby('target_type').agg({'target_type':'count','total_kills':'sum'}).rename(columns={'target_type':'total_attacks'}).sort_values('total_attacks',ascending=False)\n",
        "target_wise['total_damage']=target_wise.total_attacks+target_wise.total_kills\n",
        "target_wise.sort_values('total_damage',ascending=False).reset_index()"
      ],
      "execution_count": 19,
      "outputs": [
        {
          "output_type": "execute_result",
          "data": {
            "text/html": [
              "<div>\n",
              "<style scoped>\n",
              "    .dataframe tbody tr th:only-of-type {\n",
              "        vertical-align: middle;\n",
              "    }\n",
              "\n",
              "    .dataframe tbody tr th {\n",
              "        vertical-align: top;\n",
              "    }\n",
              "\n",
              "    .dataframe thead th {\n",
              "        text-align: right;\n",
              "    }\n",
              "</style>\n",
              "<table border=\"1\" class=\"dataframe\">\n",
              "  <thead>\n",
              "    <tr style=\"text-align: right;\">\n",
              "      <th></th>\n",
              "      <th>target_type</th>\n",
              "      <th>total_attacks</th>\n",
              "      <th>total_kills</th>\n",
              "      <th>total_damage</th>\n",
              "    </tr>\n",
              "  </thead>\n",
              "  <tbody>\n",
              "    <tr>\n",
              "      <th>0</th>\n",
              "      <td>Private Citizens &amp; Property</td>\n",
              "      <td>43511</td>\n",
              "      <td>140504.0</td>\n",
              "      <td>184015.0</td>\n",
              "    </tr>\n",
              "    <tr>\n",
              "      <th>1</th>\n",
              "      <td>Military</td>\n",
              "      <td>27984</td>\n",
              "      <td>106047.0</td>\n",
              "      <td>134031.0</td>\n",
              "    </tr>\n",
              "    <tr>\n",
              "      <th>2</th>\n",
              "      <td>Police</td>\n",
              "      <td>24506</td>\n",
              "      <td>53704.0</td>\n",
              "      <td>78210.0</td>\n",
              "    </tr>\n",
              "    <tr>\n",
              "      <th>3</th>\n",
              "      <td>Government (General)</td>\n",
              "      <td>21283</td>\n",
              "      <td>26071.0</td>\n",
              "      <td>47354.0</td>\n",
              "    </tr>\n",
              "    <tr>\n",
              "      <th>4</th>\n",
              "      <td>Business</td>\n",
              "      <td>20669</td>\n",
              "      <td>23487.0</td>\n",
              "      <td>44156.0</td>\n",
              "    </tr>\n",
              "    <tr>\n",
              "      <th>5</th>\n",
              "      <td>Transportation</td>\n",
              "      <td>6799</td>\n",
              "      <td>13916.0</td>\n",
              "      <td>20715.0</td>\n",
              "    </tr>\n",
              "    <tr>\n",
              "      <th>6</th>\n",
              "      <td>Religious Figures/Institutions</td>\n",
              "      <td>4440</td>\n",
              "      <td>13413.0</td>\n",
              "      <td>17853.0</td>\n",
              "    </tr>\n",
              "    <tr>\n",
              "      <th>7</th>\n",
              "      <td>Terrorists/Non-State Militia</td>\n",
              "      <td>3039</td>\n",
              "      <td>9088.0</td>\n",
              "      <td>12127.0</td>\n",
              "    </tr>\n",
              "    <tr>\n",
              "      <th>8</th>\n",
              "      <td>Unknown</td>\n",
              "      <td>5898</td>\n",
              "      <td>4329.0</td>\n",
              "      <td>10227.0</td>\n",
              "    </tr>\n",
              "    <tr>\n",
              "      <th>9</th>\n",
              "      <td>Educational Institution</td>\n",
              "      <td>4322</td>\n",
              "      <td>3745.0</td>\n",
              "      <td>8067.0</td>\n",
              "    </tr>\n",
              "    <tr>\n",
              "      <th>10</th>\n",
              "      <td>Utilities</td>\n",
              "      <td>6023</td>\n",
              "      <td>1874.0</td>\n",
              "      <td>7897.0</td>\n",
              "    </tr>\n",
              "    <tr>\n",
              "      <th>11</th>\n",
              "      <td>Government (Diplomatic)</td>\n",
              "      <td>3573</td>\n",
              "      <td>3039.0</td>\n",
              "      <td>6612.0</td>\n",
              "    </tr>\n",
              "    <tr>\n",
              "      <th>12</th>\n",
              "      <td>Violent Political Party</td>\n",
              "      <td>1866</td>\n",
              "      <td>3617.0</td>\n",
              "      <td>5483.0</td>\n",
              "    </tr>\n",
              "    <tr>\n",
              "      <th>13</th>\n",
              "      <td>Airports &amp; Aircraft</td>\n",
              "      <td>1343</td>\n",
              "      <td>3767.0</td>\n",
              "      <td>5110.0</td>\n",
              "    </tr>\n",
              "    <tr>\n",
              "      <th>14</th>\n",
              "      <td>Journalists &amp; Media</td>\n",
              "      <td>2948</td>\n",
              "      <td>1501.0</td>\n",
              "      <td>4449.0</td>\n",
              "    </tr>\n",
              "    <tr>\n",
              "      <th>15</th>\n",
              "      <td>NGO</td>\n",
              "      <td>970</td>\n",
              "      <td>1057.0</td>\n",
              "      <td>2027.0</td>\n",
              "    </tr>\n",
              "    <tr>\n",
              "      <th>16</th>\n",
              "      <td>Maritime</td>\n",
              "      <td>351</td>\n",
              "      <td>1191.0</td>\n",
              "      <td>1542.0</td>\n",
              "    </tr>\n",
              "    <tr>\n",
              "      <th>17</th>\n",
              "      <td>Tourists</td>\n",
              "      <td>440</td>\n",
              "      <td>758.0</td>\n",
              "      <td>1198.0</td>\n",
              "    </tr>\n",
              "    <tr>\n",
              "      <th>18</th>\n",
              "      <td>Telecommunication</td>\n",
              "      <td>1009</td>\n",
              "      <td>182.0</td>\n",
              "      <td>1191.0</td>\n",
              "    </tr>\n",
              "    <tr>\n",
              "      <th>19</th>\n",
              "      <td>Food or Water Supply</td>\n",
              "      <td>317</td>\n",
              "      <td>313.0</td>\n",
              "      <td>630.0</td>\n",
              "    </tr>\n",
              "    <tr>\n",
              "      <th>20</th>\n",
              "      <td>Other</td>\n",
              "      <td>137</td>\n",
              "      <td>255.0</td>\n",
              "      <td>392.0</td>\n",
              "    </tr>\n",
              "    <tr>\n",
              "      <th>21</th>\n",
              "      <td>Abortion Related</td>\n",
              "      <td>263</td>\n",
              "      <td>10.0</td>\n",
              "      <td>273.0</td>\n",
              "    </tr>\n",
              "  </tbody>\n",
              "</table>\n",
              "</div>"
            ],
            "text/plain": [
              "                       target_type  total_attacks  total_kills  total_damage\n",
              "0   Private Citizens & Property     43511          140504.0     184015.0    \n",
              "1   Military                        27984          106047.0     134031.0    \n",
              "2   Police                          24506          53704.0      78210.0     \n",
              "3   Government (General)            21283          26071.0      47354.0     \n",
              "4   Business                        20669          23487.0      44156.0     \n",
              "5   Transportation                  6799           13916.0      20715.0     \n",
              "6   Religious Figures/Institutions  4440           13413.0      17853.0     \n",
              "7   Terrorists/Non-State Militia    3039           9088.0       12127.0     \n",
              "8   Unknown                         5898           4329.0       10227.0     \n",
              "9   Educational Institution         4322           3745.0       8067.0      \n",
              "10  Utilities                       6023           1874.0       7897.0      \n",
              "11  Government (Diplomatic)         3573           3039.0       6612.0      \n",
              "12  Violent Political Party         1866           3617.0       5483.0      \n",
              "13  Airports & Aircraft             1343           3767.0       5110.0      \n",
              "14  Journalists & Media             2948           1501.0       4449.0      \n",
              "15  NGO                             970            1057.0       2027.0      \n",
              "16  Maritime                        351            1191.0       1542.0      \n",
              "17  Tourists                        440            758.0        1198.0      \n",
              "18  Telecommunication               1009           182.0        1191.0      \n",
              "19  Food or Water Supply            317            313.0        630.0       \n",
              "20  Other                           137            255.0        392.0       \n",
              "21  Abortion Related                263            10.0         273.0       "
            ]
          },
          "metadata": {
            "tags": []
          },
          "execution_count": 19
        }
      ]
    }
  ]
}